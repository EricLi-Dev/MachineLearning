{
  "nbformat": 4,
  "nbformat_minor": 0,
  "metadata": {
    "colab": {
      "provenance": [],
      "authorship_tag": "ABX9TyPcXfNB1knit04VbHYl7Abz",
      "include_colab_link": true
    },
    "kernelspec": {
      "name": "python3",
      "display_name": "Python 3"
    },
    "language_info": {
      "name": "python"
    }
  },
  "cells": [
    {
      "cell_type": "markdown",
      "metadata": {
        "id": "view-in-github",
        "colab_type": "text"
      },
      "source": [
        "<a href=\"https://colab.research.google.com/github/EricLi-Dev/MachineLearning/blob/main/Tinygrad_NN_Classifier.ipynb\" target=\"_parent\"><img src=\"https://colab.research.google.com/assets/colab-badge.svg\" alt=\"Open In Colab\"/></a>"
      ]
    },
    {
      "cell_type": "code",
      "execution_count": 1,
      "metadata": {
        "colab": {
          "base_uri": "https://localhost:8080/"
        },
        "id": "oopFuf_Adcgq",
        "outputId": "ba2e728b-beb3-4a03-b402-103b908aad35"
      },
      "outputs": [
        {
          "output_type": "stream",
          "name": "stdout",
          "text": [
            "Collecting tinygrad\n",
            "  Downloading tinygrad-0.8.0-py3-none-any.whl (124 kB)\n",
            "\u001b[2K     \u001b[90m━━━━━━━━━━━━━━━━━━━━━━━━━━━━━━━━━━━━━━━━\u001b[0m \u001b[32m124.7/124.7 kB\u001b[0m \u001b[31m695.8 kB/s\u001b[0m eta \u001b[36m0:00:00\u001b[0m\n",
            "\u001b[?25hRequirement already satisfied: numpy in /usr/local/lib/python3.10/dist-packages (from tinygrad) (1.23.5)\n",
            "Requirement already satisfied: tqdm in /usr/local/lib/python3.10/dist-packages (from tinygrad) (4.66.1)\n",
            "Collecting gpuctypes (from tinygrad)\n",
            "  Downloading gpuctypes-0.2.0-py3-none-any.whl (83 kB)\n",
            "\u001b[2K     \u001b[90m━━━━━━━━━━━━━━━━━━━━━━━━━━━━━━━━━━━━━━━━\u001b[0m \u001b[32m83.6/83.6 kB\u001b[0m \u001b[31m5.2 MB/s\u001b[0m eta \u001b[36m0:00:00\u001b[0m\n",
            "\u001b[?25hInstalling collected packages: gpuctypes, tinygrad\n",
            "Successfully installed gpuctypes-0.2.0 tinygrad-0.8.0\n"
          ]
        }
      ],
      "source": [
        "!pip install tinygrad"
      ]
    },
    {
      "cell_type": "markdown",
      "source": [
        "## Imports"
      ],
      "metadata": {
        "id": "L4mdVJKoDrLY"
      }
    },
    {
      "cell_type": "code",
      "source": [
        "import numpy as np\n",
        "from tinygrad.helpers import Timing"
      ],
      "metadata": {
        "id": "Y8cUClZ4dl0l"
      },
      "execution_count": 2,
      "outputs": []
    },
    {
      "cell_type": "markdown",
      "source": [
        "## Tensors\n",
        "Base data structure in tinygrad. Can be thought of as a multidimensional array of a specific data type. All operations in tinygrad operate on these tensors"
      ],
      "metadata": {
        "id": "8b78fnvRDuHy"
      }
    },
    {
      "cell_type": "code",
      "source": [
        "from tinygrad.tensor import Tensor"
      ],
      "metadata": {
        "id": "loJpy53LDwRt"
      },
      "execution_count": 3,
      "outputs": []
    },
    {
      "cell_type": "markdown",
      "source": [
        "### Tensors from python list or numpy ndarray"
      ],
      "metadata": {
        "id": "xPHuGSI1D7ZA"
      }
    },
    {
      "cell_type": "code",
      "source": [
        "t1 = Tensor([1, 2, 3, 4, 5]) # Python list\n",
        "\n",
        "na = np.array([1, 2, 3, 4, 5]) # Numpy ndarray\n",
        "t2 = Tensor(na)\n",
        "\n",
        "print(t1.numpy())\n",
        "print(t2.numpy())"
      ],
      "metadata": {
        "colab": {
          "base_uri": "https://localhost:8080/"
        },
        "id": "UdoakafSD61g",
        "outputId": "2dfc551d-2244-4aba-e62c-f1f6068562f8"
      },
      "execution_count": 11,
      "outputs": [
        {
          "output_type": "stream",
          "name": "stdout",
          "text": [
            "[1 2 3 4 5]\n",
            "[1 2 3 4 5]\n"
          ]
        }
      ]
    },
    {
      "cell_type": "markdown",
      "source": [
        "### Tensors from tinygrad factory methods"
      ],
      "metadata": {
        "id": "i9GxRf7fEkS5"
      }
    },
    {
      "cell_type": "code",
      "source": [
        "full = Tensor.full(shape=(2, 3), fill_value = 5) # Create a Tensor of shape (2, 3) filled w/ 5s\n",
        "zeros = Tensor.zeros(2, 3) # Create a Tensor of shape (2, 3) filled w/ 0s\n",
        "ones = Tensor.ones(2, 3) # Create a Tensor of shape (2, 3) filled w/ 1s\n",
        "\n",
        "print(full.numpy())\n",
        "print(zeros.numpy())\n",
        "print(ones.numpy())"
      ],
      "metadata": {
        "colab": {
          "base_uri": "https://localhost:8080/"
        },
        "id": "rORyezE_Dykt",
        "outputId": "41be8da6-1f80-4569-9a51-2d6bc4f3e7c6"
      },
      "execution_count": 12,
      "outputs": [
        {
          "output_type": "stream",
          "name": "stdout",
          "text": [
            "[[5 5 5]\n",
            " [5 5 5]]\n",
            "[[0. 0. 0.]\n",
            " [0. 0. 0.]]\n",
            "[[1. 1. 1.]\n",
            " [1. 1. 1.]]\n"
          ]
        }
      ]
    },
    {
      "cell_type": "code",
      "source": [
        "full_like = Tensor.full_like(full, fill_value = 2) # Create a Tensor of the same shape as full filled w/ 2s\n",
        "zeros_like = Tensor.zeros_like(full) # Create a Tensor of the same shape as full filled w/ 0s\n",
        "ones_like = Tensor.ones_like(full) # Create a Tensor of the same shape as full filled w/ 1s\n",
        "\n",
        "print(full_like.numpy())\n",
        "print(zeros_like.numpy())\n",
        "print(ones_like.numpy())"
      ],
      "metadata": {
        "colab": {
          "base_uri": "https://localhost:8080/"
        },
        "id": "mG7zAuJ4Ermp",
        "outputId": "7aea1733-f8a7-43e3-bc87-4bb68fb02e7a"
      },
      "execution_count": 13,
      "outputs": [
        {
          "output_type": "stream",
          "name": "stdout",
          "text": [
            "[[2 2 2]\n",
            " [2 2 2]]\n",
            "[[0 0 0]\n",
            " [0 0 0]]\n",
            "[[1 1 1]\n",
            " [1 1 1]]\n"
          ]
        }
      ]
    },
    {
      "cell_type": "code",
      "source": [
        "eye = Tensor.eye(3) # Create a 3x3 identity matrix\n",
        "print(eye.numpy())\n",
        "\n",
        "arange = Tensor.arange(start = 0, stop = 10, step = 1) # create a tensor of shape (10, ) filled w/ vals from 0 to 9\n",
        "print(arange.numpy())"
      ],
      "metadata": {
        "colab": {
          "base_uri": "https://localhost:8080/"
        },
        "id": "3wYN9J-zFp4v",
        "outputId": "96e6518b-88a6-4efa-eeed-96bd8811309b"
      },
      "execution_count": 16,
      "outputs": [
        {
          "output_type": "stream",
          "name": "stdout",
          "text": [
            "[[1. 0. 0.]\n",
            " [0. 1. 0.]\n",
            " [0. 0. 1.]]\n",
            "[0 1 2 3 4 5 6 7 8 9]\n"
          ]
        }
      ]
    },
    {
      "cell_type": "code",
      "source": [
        "rand = Tensor.rand(2, 3) # Create a Tensor of shape (2, 3) filled w/ rand values from a uniform distribution\n",
        "randn = Tensor.randn(2, 3) # Create a Tensor of shape (2, 3) filled w/ rand values from a normal distribution\n",
        "uniform = Tensor.uniform(2, 3, low = 0, high = 10) # Create a Tensor of shape (2, 3) w/ rand values from a uniform distribution between 0 and 10\n",
        "\n",
        "print(rand.numpy())\n",
        "print(randn.numpy())\n",
        "print(uniform.numpy())"
      ],
      "metadata": {
        "colab": {
          "base_uri": "https://localhost:8080/"
        },
        "id": "-1tckj7PFxa_",
        "outputId": "61bf4432-3d28-4d1b-9acc-01bcc14bf15e"
      },
      "execution_count": 18,
      "outputs": [
        {
          "output_type": "stream",
          "name": "stdout",
          "text": [
            "[[0.82972926 0.00256044 0.5747454 ]\n",
            " [0.12061459 0.8160776  0.77607435]]\n",
            "[[-0.33901465 -0.7233961  -0.89581513]\n",
            " [ 0.05636679  0.5062516   1.1454911 ]]\n",
            "[[4.0113044  1.0153073  8.738462  ]\n",
            " [0.78317106 6.9162083  2.6412897 ]]\n"
          ]
        }
      ]
    },
    {
      "cell_type": "markdown",
      "source": [
        "### Tensors can also take dtype arguments to specify the Tensor data type"
      ],
      "metadata": {
        "id": "esKT6A16GoBc"
      }
    },
    {
      "cell_type": "code",
      "source": [
        "from tinygrad.dtype import dtypes\n",
        "t3 = Tensor([1, 2, 3, 4, 5], dtype = dtypes.int32)\n",
        "print(t3.numpy())"
      ],
      "metadata": {
        "colab": {
          "base_uri": "https://localhost:8080/"
        },
        "id": "JiWOMYJlGPOD",
        "outputId": "bfc77a59-dd64-451e-a22f-e93c1819a2ae"
      },
      "execution_count": 19,
      "outputs": [
        {
          "output_type": "stream",
          "name": "stdout",
          "text": [
            "[1 2 3 4 5]\n"
          ]
        }
      ]
    },
    {
      "cell_type": "markdown",
      "source": [
        "### Tensor Operations"
      ],
      "metadata": {
        "id": "MjP-uNJ5G7Iv"
      }
    },
    {
      "cell_type": "code",
      "source": [
        "t4 = Tensor([1, 2, 3, 4, 5])\n",
        "t5 = Tensor([-1, -2, -3, 4, 5])\n",
        "t6 = t4 * t5\n",
        "\n",
        "\"\"\"\n",
        "Rectified Linear Unit -> Zeros out negative values\n",
        "\"\"\"\n",
        "t7 = t6.relu()\n",
        "\n",
        "\"\"\"\n",
        "Softmax -> Converts an array of real numbers into a prob. distribution\n",
        "        -> Can be thought of as a prob. distribution over the classes in an array\n",
        "\n",
        "arr = [1, 2, 3, 4, 5]\n",
        "\n",
        "1) Compute exponentials of each element\n",
        "(e^1, e^2, e^3, e^4, e^5)\n",
        "\n",
        "2) Sum up exponentials\n",
        "sum_exp = e^1 + e^2 + e^3 + e^4 + e^5\n",
        "\n",
        "Softmax(X_1) = e^1 / sum_exp\n",
        "Softmax(X_2) = e^2 / sum_exp\n",
        "...\n",
        "\n",
        "arr_softmax = [ 0.01165623 0.03168492 0.08612854 0.23412167 0.6364086 ]\n",
        "\"\"\"\n",
        "t8 = t7.softmax()\n",
        "\n",
        "\"\"\"\n",
        "Log Softmax -> Take the natural log of the probabilities to reduce numerical underflow of small probabilities\n",
        "            -> Helps avoid numerical instability\n",
        "\"\"\"\n",
        "t9 = t7.log_softmax()\n",
        "\n",
        "print(f\"t4                    = {t4.numpy()}\")\n",
        "print(f\"t5                    = {t5.numpy()}\")\n",
        "print(f\"t6                    = {t6.numpy()}\")\n",
        "print(f\"t7 = t6.relu()        = {t7.numpy()}\")\n",
        "print(f\"t8 = t7.softmax()     = {t8.numpy()}\")\n",
        "print(f\"t9 = t7.log_softmax() = {t9.numpy()}\")"
      ],
      "metadata": {
        "colab": {
          "base_uri": "https://localhost:8080/"
        },
        "id": "C5IvqFetG3bC",
        "outputId": "ab0285d5-f9b6-4a2d-df43-b1717182b9a2"
      },
      "execution_count": 38,
      "outputs": [
        {
          "output_type": "stream",
          "name": "stdout",
          "text": [
            "t4                    = [1 2 3 4 5]\n",
            "t5                    = [-1 -2 -3  4  5]\n",
            "t6                    = [-1 -4 -9 16 25]\n",
            "t7 = t6.relu()        = [ 0  0  0 16 25]\n",
            "t8 = t7.softmax()     = [1.38862385e-11 1.38862385e-11 1.38862385e-11 1.23394624e-04\n",
            " 9.99876618e-01]\n",
            "t9 = t7.log_softmax() = [-2.5000124e+01 -2.5000124e+01 -2.5000124e+01 -9.0001230e+00\n",
            " -1.2337400e-04]\n"
          ]
        }
      ]
    },
    {
      "cell_type": "markdown",
      "source": [
        "## Models\n",
        "Neural Networks in Tinygrad are just represented as operations performed on the tensors."
      ],
      "metadata": {
        "id": "HoODgJNLMRQJ"
      }
    },
    {
      "cell_type": "code",
      "source": [
        "class Linear:\n",
        "  def __init__(self, in_feats, out_feats, bias=True, initialization: str = \"kaiming_uniform\"):\n",
        "    self.weight = getattr(Tensor, initialization)(out_feats, in_feats)\n",
        "    self.bias = Tensor.zeros(out_feats) if bias else None\n",
        "\n",
        "  def __call__(self, x):\n",
        "    return x.linear(self.weight.transpose(), self.bias)"
      ],
      "metadata": {
        "id": "IaMtB77cHKsn"
      },
      "execution_count": 39,
      "outputs": []
    },
    {
      "cell_type": "markdown",
      "source": [
        "Simply NN that can identify MNIST digits\n",
        "\n",
        "Classifier will be a simple 2 layer neural network w/ a Leaky ReLU activation function.\n",
        "\n",
        "It will use a hidden layer of 128 and an output layer of 10 (1 for each digit) w/ no bias on either Linear layer"
      ],
      "metadata": {
        "id": "mJ733EJbNH3l"
      }
    },
    {
      "cell_type": "code",
      "source": [
        "class TinyNet:\n",
        "  def __init__(self):\n",
        "    self.l1 = Linear(784, 128, bias = False)\n",
        "    self.l2 = Linear(128, 10, bias = False)\n",
        "\n",
        "  def __call__(self, x):\n",
        "    x = self.l1(x)\n",
        "    x = x.leakyrelu()\n",
        "    x = self.l2(x)\n",
        "    return x\n",
        "\n",
        "net = TinyNet()"
      ],
      "metadata": {
        "id": "ntGtkq0dNFXq"
      },
      "execution_count": 40,
      "outputs": []
    },
    {
      "cell_type": "markdown",
      "source": [
        "The forward pass is just the sequence of operations performed on the input tensor `X`. Functional operations like `leakyrelu` are just callable methods."
      ],
      "metadata": {
        "id": "v2Y5AhLhNwFv"
      }
    },
    {
      "cell_type": "markdown",
      "source": [
        "## Training\n",
        "\n",
        "1) Define the neural network\\\n",
        "2) Define the loss function and optimizer\\\n",
        "3) Call .backward() on the loss to compute gradients\\"
      ],
      "metadata": {
        "id": "XWX4oHiiN8p3"
      }
    },
    {
      "cell_type": "code",
      "source": [
        "## Loss Function -> Implementation is taken from Tinygrad/tensor.py\n",
        "\n",
        "def sparse_categorical_crossentropy(self, Y, ignore_index=-1) -> Tensor:\n",
        "    loss_mask = Y != ignore_index\n",
        "    y_counter = Tensor.arange(self.shape[-1], dtype=dtypes.int32, requires_grad=False, device=self.device).unsqueeze(0).expand(Y.numel(), self.shape[-1])\n",
        "    y = ((y_counter == Y.flatten().reshape(-1, 1)).where(-1.0, 0) * loss_mask.reshape(-1, 1)).reshape(*Y.shape, self.shape[-1])\n",
        "    return self.log_softmax().mul(y).sum() / loss_mask.sum()"
      ],
      "metadata": {
        "id": "kmMFfCXJNugC"
      },
      "execution_count": 42,
      "outputs": []
    },
    {
      "cell_type": "code",
      "source": [
        "## Optimizer -> Stochastic Gradient Descent\n",
        "from tinygrad.nn.optim import SGD\n",
        "\n",
        "\"\"\"\n",
        "We pass in the params of our NN to the optimizer so SGD knows\n",
        "which params to update\n",
        "\"\"\"\n",
        "opt = SGD([net.l1.weight, net.l2.weight], lr=3e-4)"
      ],
      "metadata": {
        "id": "j9KrfkC7OunX"
      },
      "execution_count": 43,
      "outputs": []
    },
    {
      "cell_type": "markdown",
      "source": [
        "## Get Data\n",
        "There are a few dataset loaders in tinygrad. Here, we use the MNIST data loader"
      ],
      "metadata": {
        "id": "12iFB8NUPYbV"
      }
    },
    {
      "cell_type": "code",
      "source": [
        "import requests, gzip, os, hashlib\n",
        "import numpy as np\n",
        "import matplotlib.pyplot as plt\n",
        "\n",
        "def fetch(url):\n",
        "  import requests, gzip, os, hashlib, numpy\n",
        "  fp = os.path.join(\"/tmp\", hashlib.md5(url.encode('utf-8')).hexdigest())\n",
        "  if os.path.isfile(fp):\n",
        "    with open(fp, \"rb\") as f:\n",
        "      dat = f.read()\n",
        "  else:\n",
        "    with open(fp, \"wb\") as f:\n",
        "      dat = requests.get(url).content\n",
        "      f.write(dat)\n",
        "  return numpy.frombuffer(gzip.decompress(dat), dtype=np.uint8).copy()\n",
        "\n",
        "def fetch_mnist():\n",
        "    X_train = fetch(\"http://yann.lecun.com/exdb/mnist/train-images-idx3-ubyte.gz\")[0x10:].reshape((-1, 28, 28))\n",
        "    Y_train = fetch(\"http://yann.lecun.com/exdb/mnist/train-labels-idx1-ubyte.gz\")[8:]\n",
        "    X_test = fetch(\"http://yann.lecun.com/exdb/mnist/t10k-images-idx3-ubyte.gz\")[0x10:].reshape((-1, 28, 28))\n",
        "    Y_test = fetch(\"http://yann.lecun.com/exdb/mnist/t10k-labels-idx1-ubyte.gz\")[8:]\n",
        "\n",
        "    return X_train, Y_train, X_test, Y_test"
      ],
      "metadata": {
        "id": "poafQqmjRh6y"
      },
      "execution_count": 56,
      "outputs": []
    },
    {
      "cell_type": "markdown",
      "source": [
        "```with Tensor.train()``` is used to set the internal flag ```Tensor.training``` to ```True```. We train 1000 epochs"
      ],
      "metadata": {
        "id": "NT4tN1-GRxUC"
      }
    },
    {
      "cell_type": "code",
      "source": [
        "losses = []\n",
        "\n",
        "X_train, Y_train, X_test, Y_test = fetch_mnist()\n",
        "\n",
        "with Tensor.train():\n",
        "  for step in range(1000):\n",
        "    # random sample a batch\n",
        "    samp = np.random.randint(0, X_train.shape[0], size=(64))\n",
        "    batch = Tensor(X_train[samp].reshape(-1, 28*28), requires_grad=False)\n",
        "    # get the corresponding labels\n",
        "    labels = Tensor(Y_train[samp])\n",
        "\n",
        "    # forward pass\n",
        "    out = net(batch)\n",
        "\n",
        "    # compute loss\n",
        "    loss = sparse_categorical_crossentropy(out, labels)\n",
        "\n",
        "    # zero gradients\n",
        "    opt.zero_grad()\n",
        "\n",
        "    # backward pass\n",
        "    loss.backward()\n",
        "\n",
        "    # update parameters\n",
        "    opt.step()\n",
        "\n",
        "    # calculate accuracy\n",
        "    pred = out.argmax(axis=-1)\n",
        "    acc = (pred == labels).mean()\n",
        "\n",
        "    if step % 100 == 0:\n",
        "      print(f\"Step {step+1} | Loss: {loss.numpy()} | Accuracy: {acc.numpy()}\")\n",
        "\n",
        "    # append loss\n",
        "    losses.append(min(loss.item(), 10))\n",
        "\n",
        "plt.plot(losses)"
      ],
      "metadata": {
        "colab": {
          "base_uri": "https://localhost:8080/",
          "height": 621
        },
        "id": "6CdoIZmjPrft",
        "outputId": "622449e3-b43a-4439-8810-3a35f6da24c6"
      },
      "execution_count": 57,
      "outputs": [
        {
          "output_type": "stream",
          "name": "stdout",
          "text": [
            "Step 1 | Loss: 1.4224889278411865 | Accuracy: 0.859375\n",
            "Step 101 | Loss: 2.1566824913024902 | Accuracy: 0.890625\n",
            "Step 201 | Loss: 0.6183598041534424 | Accuracy: 0.921875\n",
            "Step 301 | Loss: 1.6797590255737305 | Accuracy: 0.921875\n",
            "Step 401 | Loss: 2.3263087272644043 | Accuracy: 0.90625\n",
            "Step 501 | Loss: 1.4003099203109741 | Accuracy: 0.921875\n",
            "Step 601 | Loss: 0.6946840882301331 | Accuracy: 0.953125\n",
            "Step 701 | Loss: 0.7499054074287415 | Accuracy: 0.890625\n",
            "Step 801 | Loss: 1.319464921951294 | Accuracy: 0.9375\n",
            "Step 901 | Loss: 0.4104490578174591 | Accuracy: 0.9375\n"
          ]
        },
        {
          "output_type": "execute_result",
          "data": {
            "text/plain": [
              "[<matplotlib.lines.Line2D at 0x7bd5d369cb20>]"
            ]
          },
          "metadata": {},
          "execution_count": 57
        },
        {
          "output_type": "display_data",
          "data": {
            "text/plain": [
              "<Figure size 640x480 with 1 Axes>"
            ],
            "image/png": "[encoded data removed]"
          },
          "metadata": {}
        }
      ]
    },
    {
      "cell_type": "markdown",
      "source": [
        "## Evaluation\n",
        "\n",
        "We will be using the same batch size of 64 and evaluating 1000 of those batches\n"
      ],
      "metadata": {
        "id": "zCNkqoO_SudL"
      }
    },
    {
      "cell_type": "code",
      "source": [
        "with Timing(\"Time: \"):\n",
        "  avg_acc = 0\n",
        "  for step in range(1000):\n",
        "    # random sample a batch\n",
        "    samp = np.random.randint(0, X_test.shape[0], size=(64))\n",
        "    batch = Tensor(X_test[samp].reshape(-1, 28*28), requires_grad=False)\n",
        "    # get the corresponding labels\n",
        "    labels = Y_test[samp]\n",
        "\n",
        "    # forward pass\n",
        "    out = net(batch)\n",
        "\n",
        "    # calculate accuracy\n",
        "    pred = out.argmax(axis=-1).numpy()\n",
        "    avg_acc += (pred == labels).mean()\n",
        "  print(f\"Test Accuracy: {avg_acc / 1000}\")"
      ],
      "metadata": {
        "colab": {
          "base_uri": "https://localhost:8080/"
        },
        "id": "QT7a9Y-SRrm1",
        "outputId": "30cb3293-4f0a-46dd-9496-b2939b4d296c"
      },
      "execution_count": 55,
      "outputs": [
        {
          "output_type": "stream",
          "name": "stdout",
          "text": [
            "Test Accuracy: 0.889046875\n",
            "Time: 11591.68 ms\n"
          ]
        }
      ]
    },
    {
      "cell_type": "code",
      "source": [],
      "metadata": {
        "id": "7S6ftFlAS5S-"
      },
      "execution_count": null,
      "outputs": []
    }
  ]
}